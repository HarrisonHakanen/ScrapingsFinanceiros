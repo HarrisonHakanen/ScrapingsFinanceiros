{
 "cells": [
  {
   "cell_type": "code",
   "execution_count": 2,
   "id": "72cef7d5-e1a5-46b7-8fa1-c2891c027d46",
   "metadata": {},
   "outputs": [],
   "source": [
    "import os\n",
    "import sqlite3\n",
    "import pandas as pd\n",
    "import traceback\n",
    "import matplotlib.pyplot as plt\n",
    "import math "
   ]
  },
  {
   "cell_type": "code",
   "execution_count": null,
   "id": "06d1f852-1c2f-4a32-8f3a-58ce851a643d",
   "metadata": {},
   "outputs": [],
   "source": []
  },
  {
   "cell_type": "code",
   "execution_count": 4,
   "id": "027fda8a-c4c7-4cf4-b457-cc3ab92cf24a",
   "metadata": {},
   "outputs": [],
   "source": [
    "diretorio = \"C:\\\\Users\\\\harri\\\\Documents\\\\Programacao\\\\Python\\\\ScrappingFinanceiros\\\\DadosDeMercado\\\\dividendos_tratados\"\n",
    "\n",
    "banco = \"db.sqlite3\"\n",
    "\n",
    "dividendos_df = pd.DataFrame()\n",
    "\n",
    "for tickerCsv in os.listdir(diretorio):\n",
    "\n",
    "    if \".csv\" in tickerCsv:\n",
    "        \n",
    "        csv_df = pd.read_csv(diretorio+\"\\\\\"+tickerCsv)\n",
    "        \n",
    "        csv_df = csv_df.drop(csv_df.columns[[0]], axis=1)\n",
    "        \n",
    "        dividendos_df = pd.concat([dividendos_df,csv_df])\n",
    "        \n",
    "dividendos_df.to_csv(\"dividendos.csv\")\n",
    "        \n",
    "        "
   ]
  },
  {
   "cell_type": "code",
   "execution_count": null,
   "id": "cdad229b-cdc9-4a29-b468-0d3da27e66bb",
   "metadata": {},
   "outputs": [],
   "source": []
  },
  {
   "cell_type": "code",
   "execution_count": null,
   "id": "bda00c89-712c-433c-8268-16e72df353ee",
   "metadata": {},
   "outputs": [],
   "source": []
  }
 ],
 "metadata": {
  "kernelspec": {
   "display_name": "Python 3 (ipykernel)",
   "language": "python",
   "name": "python3"
  },
  "language_info": {
   "codemirror_mode": {
    "name": "ipython",
    "version": 3
   },
   "file_extension": ".py",
   "mimetype": "text/x-python",
   "name": "python",
   "nbconvert_exporter": "python",
   "pygments_lexer": "ipython3",
   "version": "3.12.5"
  }
 },
 "nbformat": 4,
 "nbformat_minor": 5
}
