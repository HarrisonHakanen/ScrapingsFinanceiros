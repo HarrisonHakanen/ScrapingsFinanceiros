{
 "cells": [
  {
   "cell_type": "code",
   "execution_count": 1,
   "id": "3c81e2e2-c4a6-4971-8b85-e65fa36032f8",
   "metadata": {},
   "outputs": [],
   "source": [
    "import os\n",
    "import sqlite3\n",
    "import pandas as pd\n",
    "import traceback\n",
    "import matplotlib.pyplot as plt\n",
    "import math "
   ]
  },
  {
   "cell_type": "code",
   "execution_count": 4,
   "id": "901fcee1-685e-46c0-a2bf-69600f3dad21",
   "metadata": {},
   "outputs": [],
   "source": [
    "indicadores_csv = [\n",
    "        \"indices\\\\indice_IGP-10.csv\",\n",
    "        \"indices\\\\indice_IGP-DI.csv\",\n",
    "        \"indices\\\\indice_IGP-M.csv\",\n",
    "        \"indices\\\\indice_INCC-DI.csv\",\n",
    "        \"indices\\\\indice_INCC-M.csv\",\n",
    "        \"indices\\\\indice_INPC.csv\",\n",
    "        \"indices\\\\indice_IPA-DI.csv\",\n",
    "        \"indices\\\\indice_IPA-M.csv\",\n",
    "        \"indices\\\\indice_IPCA.csv\",\n",
    "        \"indices\\\\indice_IPCA-15.csv\",\n",
    "        \"indices\\\\indice_IPC-DI.csv\",\n",
    "        \"indices\\\\indice_IPC-M.csv\",\n",
    "        \"indices\\\\IPCA.csv\",\n",
    "        \"indices\\\\CDI.csv\"\n",
    "    ]"
   ]
  },
  {
   "cell_type": "code",
   "execution_count": null,
   "id": "6776ffee-6cab-4f40-8b65-15344a21a897",
   "metadata": {},
   "outputs": [],
   "source": []
  },
  {
   "cell_type": "code",
   "execution_count": 15,
   "id": "759e0df2-74bc-47d9-b027-5a086ebffd90",
   "metadata": {},
   "outputs": [
    {
     "name": "stdout",
     "output_type": "stream",
     "text": [
      "0     2024\n",
      "1     2023\n",
      "2     2022\n",
      "3     2021\n",
      "4     2020\n",
      "5     2019\n",
      "6     2018\n",
      "7     2017\n",
      "8     2016\n",
      "9     2015\n",
      "10    2014\n",
      "11    2013\n",
      "12    2012\n",
      "13    2011\n",
      "14    2010\n",
      "15    2009\n",
      "16    2008\n",
      "17    2007\n",
      "18    2006\n",
      "19    2005\n",
      "20    2004\n",
      "21    2003\n",
      "22    2002\n",
      "23    2001\n",
      "24    2000\n",
      "Name: Unnamed: 0, dtype: int64\n"
     ]
    }
   ],
   "source": [
    "for indicador in indicadores_csv:\n",
    "    \n",
    "    indicador_df = pd.read_csv(indicador,encoding='ISO-8859-1')\n",
    "    print(indicador_df[\"Unnamed: 0\"])\n",
    "    break\n",
    "    "
   ]
  },
  {
   "cell_type": "code",
   "execution_count": 31,
   "id": "3a8be180-f188-4808-8135-cdf8cc4c3794",
   "metadata": {},
   "outputs": [
    {
     "name": "stdout",
     "output_type": "stream",
     "text": [
      "0.42\n",
      "0.05\n",
      "1.79\n",
      "1.33\n",
      "1.07\n",
      "-0.26\n",
      "0.79\n",
      "0.88\n",
      "0.69\n",
      "0.42\n",
      "0.58\n",
      "0.42\n",
      "0.08\n",
      "0.49\n",
      "0.20\n",
      "-0.85\n",
      "1.02\n",
      "0.39\n",
      "0.84\n",
      "0.42\n",
      "0.76\n",
      "2.29\n",
      "0.26\n",
      "0.63\n",
      "1.22\n"
     ]
    }
   ],
   "source": [
    "janeiro = []\n",
    "fevereiro = []\n",
    "marco = []\n",
    "abril = []\n",
    "maio = []\n",
    "junho = []\n",
    "julho = []\n",
    "agosto = []\n",
    "setembro = []\n",
    "outubro = []\n",
    "novembro = []\n",
    "dezembro = []\n",
    "\n",
    "\n",
    "for _, row in indicador_df.iterrows():\n",
    "\n",
    "    print(row[\"Jan\"].replace(\",\",\".\").replace(\"%\",\"\"))\n",
    "\n",
    "    \n",
    "    "
   ]
  },
  {
   "cell_type": "code",
   "execution_count": null,
   "id": "8f50c964-bb61-4ccd-a9cd-6f42e1253b33",
   "metadata": {},
   "outputs": [],
   "source": []
  },
  {
   "cell_type": "code",
   "execution_count": null,
   "id": "a0736076-5849-4b9d-a227-330483587f61",
   "metadata": {},
   "outputs": [],
   "source": [
    "selic = \"indices\\\\Selic.csv\""
   ]
  },
  {
   "cell_type": "code",
   "execution_count": null,
   "id": "56a232a1-c595-49f2-87eb-3a69c812f990",
   "metadata": {},
   "outputs": [],
   "source": []
  },
  {
   "cell_type": "code",
   "execution_count": null,
   "id": "0917c042-2e3b-4264-81c4-2141945d9657",
   "metadata": {},
   "outputs": [],
   "source": []
  },
  {
   "cell_type": "code",
   "execution_count": null,
   "id": "fa082136-75d0-43c9-8157-a2b89674ae14",
   "metadata": {},
   "outputs": [],
   "source": []
  },
  {
   "cell_type": "code",
   "execution_count": null,
   "id": "44c3816e-1da2-4bc9-b66d-1a66159f40ea",
   "metadata": {},
   "outputs": [],
   "source": []
  },
  {
   "cell_type": "code",
   "execution_count": null,
   "id": "716d4da5-bcaf-465b-af28-52fbb7df259d",
   "metadata": {},
   "outputs": [],
   "source": []
  },
  {
   "cell_type": "code",
   "execution_count": null,
   "id": "d0eac7b7-a056-46bb-9ba0-0b62808b38c1",
   "metadata": {},
   "outputs": [],
   "source": []
  },
  {
   "cell_type": "code",
   "execution_count": null,
   "id": "0746656d-a429-4069-9244-9f9ed29d42e7",
   "metadata": {},
   "outputs": [],
   "source": []
  },
  {
   "cell_type": "code",
   "execution_count": null,
   "id": "f5054619-8bd9-4938-8da4-e3fa0dbf22dc",
   "metadata": {},
   "outputs": [],
   "source": []
  },
  {
   "cell_type": "code",
   "execution_count": null,
   "id": "dc958a4c-cca4-47b7-9b9c-03b6b52a78b6",
   "metadata": {},
   "outputs": [],
   "source": []
  },
  {
   "cell_type": "code",
   "execution_count": null,
   "id": "87e31bab-39b5-406c-a5ed-2f30eff65a2b",
   "metadata": {},
   "outputs": [],
   "source": []
  },
  {
   "cell_type": "code",
   "execution_count": null,
   "id": "306f4f7d-b234-4a44-bef2-a6c91bb04366",
   "metadata": {},
   "outputs": [],
   "source": []
  },
  {
   "cell_type": "code",
   "execution_count": null,
   "id": "be05d47c-60bc-4520-a134-fcfef677d8cc",
   "metadata": {},
   "outputs": [],
   "source": []
  },
  {
   "cell_type": "code",
   "execution_count": null,
   "id": "082281a1-deba-4339-a130-acfa1e5c72a6",
   "metadata": {},
   "outputs": [],
   "source": []
  },
  {
   "cell_type": "code",
   "execution_count": null,
   "id": "da7915ab-d539-4301-bc2f-06dfaa6d5b23",
   "metadata": {},
   "outputs": [],
   "source": []
  },
  {
   "cell_type": "code",
   "execution_count": null,
   "id": "115ebd8c-4e8d-4c48-96bd-ca1e2ddcdcac",
   "metadata": {},
   "outputs": [],
   "source": []
  },
  {
   "cell_type": "code",
   "execution_count": null,
   "id": "68cb38dc-ffa6-42eb-b751-36128029dc74",
   "metadata": {},
   "outputs": [],
   "source": []
  },
  {
   "cell_type": "code",
   "execution_count": null,
   "id": "c9a0bed3-05a5-43a2-b80e-dd898bb82849",
   "metadata": {},
   "outputs": [],
   "source": []
  },
  {
   "cell_type": "code",
   "execution_count": null,
   "id": "3363f158-e5ee-4610-8add-1eac8ace9432",
   "metadata": {},
   "outputs": [],
   "source": []
  },
  {
   "cell_type": "code",
   "execution_count": null,
   "id": "36f2e091-729d-43bb-a63e-329f52950a49",
   "metadata": {},
   "outputs": [],
   "source": []
  },
  {
   "cell_type": "code",
   "execution_count": null,
   "id": "516e73be-90d1-418c-8e60-d7544806222a",
   "metadata": {},
   "outputs": [],
   "source": []
  },
  {
   "cell_type": "code",
   "execution_count": null,
   "id": "e369853e-bf62-4203-bb9a-66c6972c8029",
   "metadata": {},
   "outputs": [],
   "source": []
  },
  {
   "cell_type": "code",
   "execution_count": null,
   "id": "e57385ec-ae5b-41d5-8bfb-a86eb2937b83",
   "metadata": {},
   "outputs": [],
   "source": []
  },
  {
   "cell_type": "code",
   "execution_count": null,
   "id": "f1442a93-37af-4b56-ab6d-11049ed685ae",
   "metadata": {},
   "outputs": [],
   "source": []
  },
  {
   "cell_type": "code",
   "execution_count": null,
   "id": "f5e03748-8b7d-448e-adf4-b38a6fb7c501",
   "metadata": {},
   "outputs": [],
   "source": []
  },
  {
   "cell_type": "code",
   "execution_count": null,
   "id": "3e2e157e-3291-4feb-bdd1-09dfc1ccaad9",
   "metadata": {},
   "outputs": [],
   "source": []
  }
 ],
 "metadata": {
  "kernelspec": {
   "display_name": "Python 3 (ipykernel)",
   "language": "python",
   "name": "python3"
  },
  "language_info": {
   "codemirror_mode": {
    "name": "ipython",
    "version": 3
   },
   "file_extension": ".py",
   "mimetype": "text/x-python",
   "name": "python",
   "nbconvert_exporter": "python",
   "pygments_lexer": "ipython3",
   "version": "3.12.5"
  }
 },
 "nbformat": 4,
 "nbformat_minor": 5
}
